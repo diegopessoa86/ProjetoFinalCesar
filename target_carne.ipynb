{
 "cells": [
  {
   "cell_type": "code",
   "execution_count": 1,
   "metadata": {},
   "outputs": [],
   "source": [
    "import pandas as pd\n",
    "import datetime\n"
   ]
  },
  {
   "cell_type": "code",
   "execution_count": 2,
   "metadata": {},
   "outputs": [],
   "source": [
    "def retorna_values(dataset,coluna):\n",
    "    values = dataset.iloc[:,coluna]\n",
    "    return values"
   ]
  },
  {
   "cell_type": "code",
   "execution_count": 3,
   "metadata": {},
   "outputs": [],
   "source": [
    "dataCarne = pd.read_csv('CARNE.txt', sep='\\t')"
   ]
  },
  {
   "cell_type": "code",
   "execution_count": 4,
   "metadata": {},
   "outputs": [],
   "source": [
    "dataCliente2017 = pd.read_csv('CLIENTES_2017', sep='\\t')"
   ]
  },
  {
   "cell_type": "code",
   "execution_count": 5,
   "metadata": {},
   "outputs": [],
   "source": [
    "df = dataCliente2017"
   ]
  },
  {
   "cell_type": "code",
   "execution_count": 6,
   "metadata": {},
   "outputs": [],
   "source": [
    "lista_clientes = []\n",
    "lista_datas = []\n",
    "lista_dataLimites = []\n",
    "\n",
    "for index, row in df.iterrows():\n",
    "    dataCadastro = pd.to_datetime(row[\"DATA_CADASTRO\"])\n",
    "    dataLimite = dataCadastro + datetime.timedelta(days=180)\n",
    "    lista_dataLimites.append(dataLimite)\n",
    "    lista_datas.append(dataCadastro)\n",
    "    lista_clientes.append(row['CODIGO_CLIENTE'])"
   ]
  },
  {
   "cell_type": "code",
   "execution_count": 7,
   "metadata": {},
   "outputs": [
    {
     "name": "stderr",
     "output_type": "stream",
     "text": [
      "C:\\Users\\adans\\Anaconda3\\lib\\site-packages\\ipykernel_launcher.py:2: SettingWithCopyWarning: \n",
      "A value is trying to be set on a copy of a slice from a DataFrame.\n",
      "Try using .loc[row_indexer,col_indexer] = value instead\n",
      "\n",
      "See the caveats in the documentation: http://pandas.pydata.org/pandas-docs/stable/indexing.html#indexing-view-versus-copy\n",
      "  \n",
      "C:\\Users\\adans\\Anaconda3\\lib\\site-packages\\ipykernel_launcher.py:3: SettingWithCopyWarning: \n",
      "A value is trying to be set on a copy of a slice from a DataFrame.\n",
      "Try using .loc[row_indexer,col_indexer] = value instead\n",
      "\n",
      "See the caveats in the documentation: http://pandas.pydata.org/pandas-docs/stable/indexing.html#indexing-view-versus-copy\n",
      "  This is separate from the ipykernel package so we can avoid doing imports until\n"
     ]
    }
   ],
   "source": [
    "dfC = dataCarne.head(500000)\n",
    "dfC['DATA_CADASTRO'] = pd.NaT\n",
    "dfC['DATA_LIMITE'] = pd.NaT"
   ]
  },
  {
   "cell_type": "code",
   "execution_count": null,
   "metadata": {},
   "outputs": [],
   "source": [
    "x = 0\n",
    "for index, row in dfC.iterrows():\n",
    "    x=0\n",
    "    for codigo in lista_clientes:\n",
    "        if codigo == row['CODIGO_CLIENTE']:\n",
    "            #row['DATA_CADASTRO'] = pd.to_datetime(lista_datas[x])\n",
    "            dfC.set_value(index, 'DATA_CADASTRO', pd.to_datetime(lista_datas[x]))\n",
    "            dfC.set_value(index, 'DATA_LIMITE', pd.to_datetime(lista_dataLimites[x]))\n",
    "            print('Entrou no IF')\n",
    "            print(row['CODIGO_CLIENTE'])\n",
    "    x=x+1"
   ]
  },
  {
   "cell_type": "code",
   "execution_count": null,
   "metadata": {},
   "outputs": [],
   "source": [
    "dfC['FLAG_TARGET'] = 1\n",
    "dfC[\"FLAG_ELEGIVEL\"] = 1"
   ]
  },
  {
   "cell_type": "code",
   "execution_count": null,
   "metadata": {},
   "outputs": [],
   "source": [
    "for index, row in dfC.iterrows():\n",
    "    dataPagamento = pd.to_datetime(row[\"DATA_PAGAMENTO\"])\n",
    "    dataVencimento = pd.to_datetime(row[\"DATA_VENCIMENTO\"])\n",
    "    if dataPagamento <= dataVencimento:\n",
    "        dfC.set_value(index, 'FLAG_TARGET', 0)\n",
    "    else:\n",
    "        dfC.set_value(index, 'FLAG_TARGET', 1)\n",
    "    if (pd.to_datetime(row['DATA_CADASTRO']) is pd.NaT) | (pd.to_datetime(row['DATA_CADASTRO']) > pd.to_datetime(row['DATA_PAGAMENTO'])) | (pd.to_datetime(row['DATA_LIMITE']) >= pd.to_datetime(row['DATA_PAGAMENTO'])):\n",
    "        dfC.set_value(index, 'FLAG_ELEGIVEL', 1)\n",
    "    elif (pd.to_datetime(row['DATA_CADASTRO']) <= pd.to_datetime(row['DATA_PAGAMENTO'])) & (pd.to_datetime(row['DATA_PAGAMENTO']) <= pd.to_datetime(row['DATA_LIMITE'])):\n",
    "        dfC.set_value(index, 'FLAG_ELEGIVEL', 0)\n",
    "        print(index)"
   ]
  },
  {
   "cell_type": "code",
   "execution_count": null,
   "metadata": {},
   "outputs": [],
   "source": [
    "dfC.to_csv(\"TABELAO_CARNE\", sep='\\t', encoding='utf-8')"
   ]
  },
  {
   "cell_type": "code",
   "execution_count": null,
   "metadata": {},
   "outputs": [],
   "source": []
  }
 ],
 "metadata": {
  "kernelspec": {
   "display_name": "Python 3",
   "language": "python",
   "name": "python3"
  },
  "language_info": {
   "codemirror_mode": {
    "name": "ipython",
    "version": 3
   },
   "file_extension": ".py",
   "mimetype": "text/x-python",
   "name": "python",
   "nbconvert_exporter": "python",
   "pygments_lexer": "ipython3",
   "version": "3.7.0"
  }
 },
 "nbformat": 4,
 "nbformat_minor": 2
}
