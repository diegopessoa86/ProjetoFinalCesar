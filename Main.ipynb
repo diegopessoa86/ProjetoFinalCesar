{
 "cells": [
  {
   "cell_type": "markdown",
   "metadata": {},
   "source": [
    "# Carregando as libs"
   ]
  },
  {
   "cell_type": "code",
   "execution_count": null,
   "metadata": {},
   "outputs": [],
   "source": [
    "import matplotlib.pyplot as plt\n",
    "import numpy as np\n",
    "from scipy.stats import norm\n",
    "from sklearn import linear_model\n",
    "from sklearn.metrics import r2_score\n",
    "import seaborn as sns\n",
    "import pandas as pd\n",
    "import xlrd\n",
    "import statistics as stt\n",
    "import time\n",
    "import datetime"
   ]
  },
  {
   "cell_type": "markdown",
   "metadata": {},
   "source": [
    "# Carregando os dados\n",
    "[Tabelas]      \n",
    "[Cartao    ---->dataCartao]\n",
    "[Contrato  ---->dataContrato]\n",
    "[Carne     ---->dataCarne]\n",
    "[Cadastral ---->dataCadastral]\n"
   ]
  },
  {
   "cell_type": "code",
   "execution_count": null,
   "metadata": {},
   "outputs": [],
   "source": [
    "import time\n",
    "import datetime\n",
    "\n",
    "\n",
    "def retorna_values(dataset,coluna):\n",
    "    values = dataset.iloc[:,coluna]\n",
    "    return values\n",
    "    "
   ]
  },
  {
   "cell_type": "code",
   "execution_count": null,
   "metadata": {},
   "outputs": [],
   "source": [
    "dataCartao = pd.read_csv('CARTAO.txt', sep='\\t')"
   ]
  },
  {
   "cell_type": "code",
   "execution_count": null,
   "metadata": {},
   "outputs": [],
   "source": [
    "dataContrato = pd.read_csv('CONTRATO.txt', sep='\\t')"
   ]
  },
  {
   "cell_type": "code",
   "execution_count": null,
   "metadata": {},
   "outputs": [],
   "source": [
    "dataCarne = pd.read_csv('CARNE.txt', sep='\\t')"
   ]
  },
  {
   "cell_type": "code",
   "execution_count": null,
   "metadata": {},
   "outputs": [],
   "source": [
    "dataCadastral = pd.read_csv('CADASTRAL.txt', sep='\\t', dtype='unicode')"
   ]
  },
  {
   "cell_type": "code",
   "execution_count": null,
   "metadata": {},
   "outputs": [],
   "source": [
    "dataClienteDataCad = retorna_values(dataCadastral,[0,9])"
   ]
  },
  {
   "cell_type": "code",
   "execution_count": null,
   "metadata": {},
   "outputs": [],
   "source": [
    "#Pega os primeiros 300,000 cadastros\n",
    "df = dataClienteDataCad.head(n=300000)"
   ]
  },
  {
   "cell_type": "code",
   "execution_count": null,
   "metadata": {},
   "outputs": [],
   "source": [
    "df.describe()"
   ]
  },
  {
   "cell_type": "code",
   "execution_count": null,
   "metadata": {},
   "outputs": [],
   "source": [
    "#df = dataClienteDataCad\n",
    "print(pd.NaT)\n",
    "lista_index = []\n",
    "for index, row in df.iterrows():\n",
    "    print(\"===Index===\")\n",
    "    print(index)\n",
    "    row[\"DATA_CADASTRO\"] = pd.to_datetime(row[\"DATA_CADASTRO\"])\n",
    "    dataCadastro = pd.to_datetime(row[\"DATA_CADASTRO\"])\n",
    "    dataLimiteInferior = pd.to_datetime(\"2017/01/01\")\n",
    "    print(\"==== Data Cadastro ===\")\n",
    "    print(dataCadastro)\n",
    "    if dataCadastro < dataLimiteInferior:\n",
    "        lista_index.append(index)\n",
    "        print(\"Se data antes 2017: Drop\")\n",
    "    elif dataCadastro is pd.NaT:\n",
    "        lista_index.append(index)\n",
    "        print(\"Se não, se NAT: Drop\")\n",
    "    else:\n",
    "        print(\"Se não, Mantem\")\n",
    "    print(\"=======\")"
   ]
  },
  {
   "cell_type": "code",
   "execution_count": null,
   "metadata": {},
   "outputs": [],
   "source": [
    "df.drop(lista_index).to_csv(\"CLIENTES_2017\", sep='\\t', encoding='utf-8')"
   ]
  },
  {
   "cell_type": "code",
   "execution_count": null,
   "metadata": {},
   "outputs": [],
   "source": [
    "end = time.time()\n",
    "print(end - start)"
   ]
  }
 ],
 "metadata": {
  "kernelspec": {
   "display_name": "Python 3",
   "language": "python",
   "name": "python3"
  },
  "language_info": {
   "codemirror_mode": {
    "name": "ipython",
    "version": 3
   },
   "file_extension": ".py",
   "mimetype": "text/x-python",
   "name": "python",
   "nbconvert_exporter": "python",
   "pygments_lexer": "ipython3",
   "version": "3.7.0"
  }
 },
 "nbformat": 4,
 "nbformat_minor": 2
}
