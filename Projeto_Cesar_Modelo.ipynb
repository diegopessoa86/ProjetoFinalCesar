{
 "cells": [
  {
   "cell_type": "markdown",
   "metadata": {},
   "source": [
    "# # IMPORTS"
   ]
  },
  {
   "cell_type": "code",
   "execution_count": 28,
   "metadata": {},
   "outputs": [],
   "source": [
    "import matplotlib.pyplot as plt \n",
    "import pandas as pd  \n",
    "import statsmodels.api as sm  \n",
    "import pylab as pl  \n",
    "import numpy as np  \n",
    "from patsy import dmatrix \n",
    "\n",
    "from sklearn.linear_model import LogisticRegression\n",
    "from sklearn.model_selection import train_test_split\n",
    "from sklearn.metrics import classification_report\n",
    "from sklearn.metrics import confusion_matrix\n",
    "\n",
    "from sklearn.model_selection import train_test_split\n",
    "from sklearn.preprocessing import StandardScaler\n",
    "from sklearn.metrics import accuracy_score\n",
    "\n",
    "\n",
    "def retorna_values(dataset,coluna):\n",
    "    values = dataset.iloc[:,coluna]\n",
    "    return values"
   ]
  },
  {
   "cell_type": "markdown",
   "metadata": {},
   "source": [
    "# CARREGANDO OS DADOS\n",
    "# Dados das tabelas Cartao, Carne e Cadastral"
   ]
  },
  {
   "cell_type": "code",
   "execution_count": 29,
   "metadata": {},
   "outputs": [
    {
     "name": "stderr",
     "output_type": "stream",
     "text": [
      "C:\\Users\\adans\\Anaconda\\lib\\site-packages\\ipykernel_launcher.py:20: FutureWarning: 'CODIGO_CLIENTE' is both an index level and a column label.\n",
      "Defaulting to column, but this will raise an ambiguity error in a future version\n",
      "C:\\Users\\adans\\Anaconda\\lib\\site-packages\\ipykernel_launcher.py:21: FutureWarning: 'CODIGO_CLIENTE' is both an index level and a column label.\n",
      "Defaulting to column, but this will raise an ambiguity error in a future version\n"
     ]
    }
   ],
   "source": [
    "dfLimite = pd.read_csv(\"C:\\CSCORE\\TABELAO_CARTAO_TARGET_ELEGIVEL.txt\", sep='\\t')\n",
    "dfLimite = dfLimite[dfLimite[\"FLAG_TARGET\"] >= 0]\n",
    "dfLimite = dfLimite.groupby('CODIGO_CLIENTE')['LIMITE'].max()\n",
    "dfLimite = dfLimite.to_frame()\n",
    "dfLimite['CODIGO_CLIENTE'] = dfLimite.index\n",
    "dfLimite['FLAG_CARTAO'] = 1\n",
    "\n",
    "dfCarne = pd.read_csv(\"C:\\CSCORE\\TABELAO_CARNE.txt\", sep='\\t')\n",
    "dfCarne = dfCarne[dfCarne[\"FLAG_TARGET\"] >= 0]\n",
    "dfCarne = dfCarne.groupby('CODIGO_CLIENTE')['VALOR_PARCELA'].mean()\n",
    "dfCarne = dfCarne.to_frame()\n",
    "dfCarne['CODIGO_CLIENTE'] = dfCarne.index\n",
    "dfCarne['FLAG_CARNE'] = 1\n",
    "\n",
    "\n",
    "df = pd.read_csv(\"C:\\CSCORE\\TABELAO_1.txt\", sep='\\t')\n",
    "df = retorna_values(df,[1,3,4,7,8,11,12,13,14,15,16,17,18,19,20])\n",
    "df = df[df[\"FLAG_TARGET\"] >= 0]\n",
    "\n",
    "df = df.merge(dfLimite, left_on='CODIGO_CLIENTE', right_on='CODIGO_CLIENTE', how='outer') # adicionado a coluna LIMITE\n",
    "df = df.merge(dfCarne, left_on='CODIGO_CLIENTE', right_on='CODIGO_CLIENTE', how='outer')"
   ]
  },
  {
   "cell_type": "markdown",
   "metadata": {},
   "source": [
    "# TRATAMENTO DOS DADOS"
   ]
  },
  {
   "cell_type": "code",
   "execution_count": 30,
   "metadata": {},
   "outputs": [],
   "source": [
    "#CONVERTENDO A IDADE EM DIAS(TIMEDELTA) EM ANOS(INT)\n",
    "\n",
    "df['IDADE'] = pd.to_timedelta(df['IDADE'])\n",
    "td = df['IDADE']\n",
    "df['IDADE'] = pd.to_numeric(td.dt.days/365)\n",
    "\n",
    "\n",
    "#GERANDO OS DUMMIES PARA SEXO, ESTADO_CIVIL, CATEGORIA PROFISSIONAL, TIPO DE RESIDENCIA\n",
    "sexo = pd.get_dummies(df['SEXO'], drop_first=True)\n",
    "estado_civil = pd.get_dummies(df['ESTADO_CIVIL'], drop_first=True)\n",
    "categoria_prof = pd.get_dummies(df['CATEGORIAL_PROFISSAO'], drop_first=True)\n",
    "tipo_residencia = pd.get_dummies(df['TIPO_RESIDENCIA'], drop_first=True)\n",
    "\n",
    "\n",
    "#PREENCHENDO OS NAN COM 'N'\n",
    "df['FLAG_CONTA_BANCO'] = df['FLAG_CONTA_BANCO'].fillna('N')\n",
    "df['LIMITE'] = df['LIMITE'].fillna(0)\n",
    "df['FLAG_CARTAO'] = df['FLAG_CARTAO'].fillna(0)\n",
    "\n",
    "df['VALOR_PARCELA'] = df['VALOR_PARCELA'].fillna(0)\n",
    "df['FLAG_CARNE'] = df['FLAG_CARNE'].fillna(0)\n",
    "\n",
    "#CRIANDO DUMMIES PARA FLAG_CONTA_BANCO\n",
    "\n",
    "flag_conta_banco = pd.get_dummies(df['FLAG_CONTA_BANCO'], drop_first = True)\n",
    "\n",
    "#CONVERTER tudo PARA NUMERO\n",
    "df = df.apply(pd.to_numeric, errors='coerce')#CONVERTER tudo PARA NUMERO\n",
    "\n",
    "df = df.drop('CODIGO_CLIENTE', axis=1)\n",
    "df = df.drop('BAIRRO', axis=1)\n",
    "df = df.drop('ESTADO_CIVIL', axis=1)\n",
    "df = df.drop('SEXO', axis=1)\n",
    "df = df.drop('CATEGORIAL_PROFISSAO', axis=1)\n",
    "df = df.drop('TIPO_RESIDENCIA', axis=1)\n",
    "df = df.drop('FLAG_CONTA_BANCO', axis=1)\n",
    "df = df.drop('QTD_CARTOES_ADICIONAIS', axis=1)\n",
    "\n",
    "#CRIA O DF para o tabelao\n",
    "df = pd.concat([df, sexo, estado_civil, categoria_prof, tipo_residencia, flag_conta_banco],axis=1)"
   ]
  },
  {
   "cell_type": "markdown",
   "metadata": {},
   "source": [
    "# PREENCHENDO OS VAZIOS"
   ]
  },
  {
   "cell_type": "code",
   "execution_count": 31,
   "metadata": {},
   "outputs": [
    {
     "name": "stderr",
     "output_type": "stream",
     "text": [
      "C:\\Users\\adans\\Anaconda\\lib\\site-packages\\sklearn\\utils\\deprecation.py:58: DeprecationWarning: Class Imputer is deprecated; Imputer was deprecated in version 0.20 and will be removed in 0.22. Import impute.SimpleImputer from sklearn instead.\n",
      "  warnings.warn(msg, category=DeprecationWarning)\n",
      "C:\\Users\\adans\\Anaconda\\lib\\site-packages\\sklearn\\utils\\deprecation.py:58: DeprecationWarning: Class Imputer is deprecated; Imputer was deprecated in version 0.20 and will be removed in 0.22. Import impute.SimpleImputer from sklearn instead.\n",
      "  warnings.warn(msg, category=DeprecationWarning)\n",
      "C:\\Users\\adans\\Anaconda\\lib\\site-packages\\sklearn\\utils\\deprecation.py:58: DeprecationWarning: Class Imputer is deprecated; Imputer was deprecated in version 0.20 and will be removed in 0.22. Import impute.SimpleImputer from sklearn instead.\n",
      "  warnings.warn(msg, category=DeprecationWarning)\n",
      "C:\\Users\\adans\\Anaconda\\lib\\site-packages\\sklearn\\utils\\deprecation.py:58: DeprecationWarning: Class Imputer is deprecated; Imputer was deprecated in version 0.20 and will be removed in 0.22. Import impute.SimpleImputer from sklearn instead.\n",
      "  warnings.warn(msg, category=DeprecationWarning)\n",
      "C:\\Users\\adans\\Anaconda\\lib\\site-packages\\sklearn\\utils\\deprecation.py:58: DeprecationWarning: Class Imputer is deprecated; Imputer was deprecated in version 0.20 and will be removed in 0.22. Import impute.SimpleImputer from sklearn instead.\n",
      "  warnings.warn(msg, category=DeprecationWarning)\n"
     ]
    },
    {
     "data": {
      "text/plain": [
       "\"\\ndf['RENDA_CJ'] = df['RENDA_CJ']/1000\\ndf['RENDA_TITULAR'] = df['RENDA_TITULAR']/1000\\ndf['LIMITE'] = df['LIMITE']/1000\\ndf['OUTRAS_RENDAS'] = df['OUTRAS_RENDAS']/1000\\ndf['VALOR_HISTORICO_COMPRAS'] = df['VALOR_HISTORICO_COMPRAS']/1000\\ndf['VALOR_PARCELA'] = df['VALOR_PARCELA']/100\\ndf['IDADE'] = df['IDADE']/10\\ndfBase = df\\n\""
      ]
     },
     "execution_count": 31,
     "metadata": {},
     "output_type": "execute_result"
    }
   ],
   "source": [
    "from sklearn.preprocessing import Imputer\n",
    "\n",
    "imp1 = Imputer(missing_values = 'NaN', strategy='median', axis=0)\n",
    "imp2 = Imputer(missing_values = 'NaN', strategy='median', axis=0)\n",
    "imp3 = Imputer(missing_values = 'NaN', strategy='median', axis=0)\n",
    "imp4 = Imputer(missing_values = 'NaN', strategy='median', axis=0)\n",
    "imp5 = Imputer(missing_values = 'NaN', strategy='median', axis=0)\n",
    "\n",
    "\"\"\"\n",
    "imp1.fit(df['RENDA_CJ'].values.reshape(-1,1))\n",
    "df['RENDA_CJ'] = imp1.transform(df['RENDA_CJ'].values.reshape(-1,1))\n",
    "\n",
    "imp2.fit(df['RENDA_TITULAR'].values.reshape(-1,1))\n",
    "df['RENDA_TITULAR'] = imp2.transform(df['RENDA_TITULAR'].values.reshape(-1,1))\n",
    "\n",
    "imp3.fit(df['OUTRAS_RENDAS'].values.reshape(-1,1))\n",
    "df['OUTRAS_RENDAS'] = imp3.transform(df['OUTRAS_RENDAS'].values.reshape(-1,1))\n",
    "\"\"\"\n",
    "\n",
    "imp4.fit(df['IDADE'].values.reshape(-1,1))\n",
    "df['IDADE'] = imp4.transform(df['IDADE'].values.reshape(-1,1))\n",
    "\n",
    "imp5.fit(df['LIMITE'].values.reshape(-1,1))\n",
    "df['LIMITE'] = imp5.transform(df['LIMITE'].values.reshape(-1,1))\n",
    "\n",
    "df['RENDA_CJ'] = df['RENDA_CJ'].fillna(0)\n",
    "df['RENDA_TITULAR'] = df['RENDA_TITULAR'].fillna(0)\n",
    "df['OUTRAS_RENDAS'] = df['OUTRAS_RENDAS'].fillna(0)\n",
    "df['IDADE'] = df['IDADE'].astype(int)\n",
    "df['IDADE'] = df['IDADE'].fillna(0)\n",
    "df['QTD_DEPENDENTES'] = df['QTD_DEPENDENTES'].fillna(0)\n",
    "\"\"\"\n",
    "df['RENDA_CJ'] = df['RENDA_CJ']/1000\n",
    "df['RENDA_TITULAR'] = df['RENDA_TITULAR']/1000\n",
    "df['LIMITE'] = df['LIMITE']/1000\n",
    "df['OUTRAS_RENDAS'] = df['OUTRAS_RENDAS']/1000\n",
    "df['VALOR_HISTORICO_COMPRAS'] = df['VALOR_HISTORICO_COMPRAS']/1000\n",
    "df['VALOR_PARCELA'] = df['VALOR_PARCELA']/100\n",
    "df['IDADE'] = df['IDADE']/10\n",
    "dfBase = df\n",
    "\"\"\""
   ]
  },
  {
   "cell_type": "markdown",
   "metadata": {},
   "source": [
    "#  DESCRIÇÃO DOS DADOS"
   ]
  },
  {
   "cell_type": "code",
   "execution_count": 32,
   "metadata": {},
   "outputs": [
    {
     "name": "stdout",
     "output_type": "stream",
     "text": [
      "DATA SUMMARY\n",
      "       QTD_DEPENDENTES  RENDA_TITULAR      RENDA_CJ  OUTRAS_RENDAS  \\\n",
      "count     96228.000000   96228.000000  96228.000000   96228.000000   \n",
      "mean          0.357360    1599.269776     68.518331     120.618843   \n",
      "std           0.758963    1411.516164    427.106584     437.608688   \n",
      "min           0.000000       0.000000      0.000000       0.000000   \n",
      "25%           0.000000    1000.000000      0.000000       0.000000   \n",
      "50%           0.000000    1342.000000      0.000000       0.000000   \n",
      "75%           0.000000    1900.000000      0.000000       0.000000   \n",
      "max          10.000000  180000.000000  30000.000000   39000.000000   \n",
      "\n",
      "       VALOR_HISTORICO_COMPRAS   FLAG_TARGET         IDADE        LIMITE  \\\n",
      "count             96228.000000  96228.000000  96228.000000  96228.000000   \n",
      "mean               2497.607626      0.744949     41.150289    856.428545   \n",
      "std                3068.072788      0.435892     16.117914    950.588236   \n",
      "min                   0.000000      0.000000     19.000000      0.000000   \n",
      "25%                 734.675000      0.000000     27.000000    300.000000   \n",
      "50%                1678.985000      1.000000     39.000000    600.000000   \n",
      "75%                3259.672500      1.000000     54.000000   1100.000000   \n",
      "max              136495.490000      1.000000    100.000000   7500.000000   \n",
      "\n",
      "        FLAG_CARTAO  VALOR_PARCELA      ...         APOSENTADO   ASSALARIADO  \\\n",
      "count  96228.000000   96228.000000      ...       96228.000000  96228.000000   \n",
      "mean       0.805233      85.129877      ...           0.196315      0.478063   \n",
      "std        0.396023     512.696875      ...           0.397212      0.499521   \n",
      "min        0.000000       0.000000      ...           0.000000      0.000000   \n",
      "25%        1.000000       0.000000      ...           0.000000      0.000000   \n",
      "50%        1.000000      18.186163      ...           0.000000      0.000000   \n",
      "75%        1.000000      85.787067      ...           0.000000      1.000000   \n",
      "max        1.000000   39826.800000      ...           1.000000      1.000000   \n",
      "\n",
      "           AUT+NOMO       LIBERAL            FA            FI            OU  \\\n",
      "count  96228.000000  96228.000000  96228.000000  96228.000000  96228.000000   \n",
      "mean       0.272353      0.002546      0.024348      0.020088      0.243692   \n",
      "std        0.445173      0.050394      0.154129      0.140301      0.429311   \n",
      "min        0.000000      0.000000      0.000000      0.000000      0.000000   \n",
      "25%        0.000000      0.000000      0.000000      0.000000      0.000000   \n",
      "50%        0.000000      0.000000      0.000000      0.000000      0.000000   \n",
      "75%        1.000000      0.000000      0.000000      0.000000      0.000000   \n",
      "max        1.000000      1.000000      1.000000      1.000000      1.000000   \n",
      "\n",
      "                 PR            SM             S  \n",
      "count  96228.000000  96228.000000  96228.000000  \n",
      "mean       0.601166      0.001600      0.082523  \n",
      "std        0.489661      0.039973      0.275161  \n",
      "min        0.000000      0.000000      0.000000  \n",
      "25%        0.000000      0.000000      0.000000  \n",
      "50%        1.000000      0.000000      0.000000  \n",
      "75%        1.000000      0.000000      0.000000  \n",
      "max        1.000000      1.000000      1.000000  \n",
      "\n",
      "[8 rows x 26 columns]\n",
      "DESVIO PADRAO\n",
      "QTD_DEPENDENTES               0.758963\n",
      "RENDA_TITULAR              1411.516164\n",
      "RENDA_CJ                    427.106584\n",
      "OUTRAS_RENDAS               437.608688\n",
      "VALOR_HISTORICO_COMPRAS    3068.072788\n",
      "FLAG_TARGET                   0.435892\n",
      "IDADE                        16.117914\n",
      "LIMITE                      950.588236\n",
      "FLAG_CARTAO                   0.396023\n",
      "VALOR_PARCELA               512.696875\n",
      "FLAG_CARNE                    0.499998\n",
      "M                             0.499718\n",
      "CO                            0.316305\n",
      "SE                            0.229667\n",
      "SO                            0.499689\n",
      "VI                            0.218280\n",
      "APOSENTADO                    0.397212\n",
      "ASSALARIADO                   0.499521\n",
      "AUT+NOMO                      0.445173\n",
      "LIBERAL                       0.050394\n",
      "FA                            0.154129\n",
      "FI                            0.140301\n",
      "OU                            0.429311\n",
      "PR                            0.489661\n",
      "SM                            0.039973\n",
      "S                             0.275161\n",
      "dtype: float64\n"
     ]
    }
   ],
   "source": [
    "print(\"DATA SUMMARY\")\n",
    "print(df.describe())\n",
    "\n",
    "print(\"DESVIO PADRAO\")\n",
    "print(df.std())"
   ]
  },
  {
   "cell_type": "markdown",
   "metadata": {},
   "source": [
    "# #DROPS"
   ]
  },
  {
   "cell_type": "code",
   "execution_count": 33,
   "metadata": {},
   "outputs": [],
   "source": [
    "#df = pd.concat([df, sexo, estado_civil, categoria_prof, tipo_residencia, flag_conta_banco],axis=1)\n",
    "#df =df.drop('IDADE', axis=1)\n",
    "#df = df.drop('RENDA_CJ', axis=1)\n",
    "#df = df.drop('RENDA_TITULAR', axis=1)\n",
    "#df = df.drop('OUTRAS_RENDAS', axis=1)\n",
    "#df = df.drop('VALOR_HISTORICO_COMPRAS', axis=1)\n",
    "#df = df.drop('VALOR_PARCELA', axis=1)\n",
    "#df = df.drop('LIMITE', axis =1 )\n",
    "#df = df.drop('FLAG_CARTAO', axis=1)\n",
    "#df = df.drop('FLAG_CARNE', axis=1)\n",
    "#df = df.drop('RENDA', axis=1)"
   ]
  },
  {
   "cell_type": "markdown",
   "metadata": {},
   "source": [
    "# DIVIDINDO A BASE DE DADOS"
   ]
  },
  {
   "cell_type": "code",
   "execution_count": 34,
   "metadata": {},
   "outputs": [
    {
     "name": "stderr",
     "output_type": "stream",
     "text": [
      "C:\\Users\\adans\\Anaconda\\lib\\site-packages\\sklearn\\preprocessing\\data.py:625: DataConversionWarning: Data with input dtype uint8, int32, float64 were all converted to float64 by StandardScaler.\n",
      "  return self.partial_fit(X, y)\n",
      "C:\\Users\\adans\\Anaconda\\lib\\site-packages\\sklearn\\base.py:462: DataConversionWarning: Data with input dtype uint8, int32, float64 were all converted to float64 by StandardScaler.\n",
      "  return self.fit(X, **fit_params).transform(X)\n"
     ]
    }
   ],
   "source": [
    "X = df.drop('FLAG_TARGET', axis=1)\n",
    "y = df['FLAG_TARGET']\n",
    "\n",
    "sc = StandardScaler()\n",
    "X1 =  sc.fit_transform(X)"
   ]
  },
  {
   "cell_type": "markdown",
   "metadata": {},
   "source": [
    "# BALANCEANDO OS DADOS"
   ]
  },
  {
   "cell_type": "code",
   "execution_count": 35,
   "metadata": {},
   "outputs": [
    {
     "name": "stdout",
     "output_type": "stream",
     "text": [
      "length of oversampled data is  100268\n",
      "Number of no subscription in oversampled data 50134\n",
      "Number of subscription 50134\n",
      "Proportion of no subscription data in oversampled data is  0.5\n",
      "Proportion of subscription data in oversampled data is  0.5\n"
     ]
    }
   ],
   "source": [
    "from imblearn.over_sampling import SMOTE\n",
    "\n",
    "os = SMOTE(random_state=0)\n",
    "X_train, X_test, y_train, y_test = train_test_split(X, y, test_size=0.3, random_state=0)\n",
    "columns = X_train.columns\n",
    "\n",
    "os_data_X,os_data_y=os.fit_sample(X_train, y_train)\n",
    "os_data_X = pd.DataFrame(data=os_data_X,columns=columns )\n",
    "os_data_y= pd.DataFrame(data=os_data_y,columns=['FLAG_TARGET'])\n",
    "# we can Check the numbers of our data\n",
    "print(\"length of oversampled data is \",len(os_data_X))\n",
    "print(\"Number of no subscription in oversampled data\",len(os_data_y[os_data_y['FLAG_TARGET']==0]))\n",
    "print(\"Number of subscription\",len(os_data_y[os_data_y['FLAG_TARGET']==1]))\n",
    "print(\"Proportion of no subscription data in oversampled data is \",len(os_data_y[os_data_y['FLAG_TARGET']==0])/len(os_data_X))\n",
    "print(\"Proportion of subscription data in oversampled data is \",len(os_data_y[os_data_y['FLAG_TARGET']==1])/len(os_data_X))"
   ]
  },
  {
   "cell_type": "code",
   "execution_count": 36,
   "metadata": {},
   "outputs": [],
   "source": [
    "data_final_vars=df.columns.values.tolist()\n",
    "y=['FLAG_TARGET']\n",
    "X=[i for i in data_final_vars if i not in y]"
   ]
  },
  {
   "cell_type": "markdown",
   "metadata": {},
   "source": [
    "# VERIFICANDO AS VARIAVEIS"
   ]
  },
  {
   "cell_type": "code",
   "execution_count": 37,
   "metadata": {},
   "outputs": [
    {
     "name": "stderr",
     "output_type": "stream",
     "text": [
      "C:\\Users\\adans\\Anaconda\\lib\\site-packages\\sklearn\\linear_model\\logistic.py:433: FutureWarning: Default solver will be changed to 'lbfgs' in 0.22. Specify a solver to silence this warning.\n",
      "  FutureWarning)\n",
      "C:\\Users\\adans\\Anaconda\\lib\\site-packages\\sklearn\\linear_model\\logistic.py:433: FutureWarning: Default solver will be changed to 'lbfgs' in 0.22. Specify a solver to silence this warning.\n",
      "  FutureWarning)\n",
      "C:\\Users\\adans\\Anaconda\\lib\\site-packages\\sklearn\\linear_model\\logistic.py:433: FutureWarning: Default solver will be changed to 'lbfgs' in 0.22. Specify a solver to silence this warning.\n",
      "  FutureWarning)\n",
      "C:\\Users\\adans\\Anaconda\\lib\\site-packages\\sklearn\\linear_model\\logistic.py:433: FutureWarning: Default solver will be changed to 'lbfgs' in 0.22. Specify a solver to silence this warning.\n",
      "  FutureWarning)\n",
      "C:\\Users\\adans\\Anaconda\\lib\\site-packages\\sklearn\\linear_model\\logistic.py:433: FutureWarning: Default solver will be changed to 'lbfgs' in 0.22. Specify a solver to silence this warning.\n",
      "  FutureWarning)\n",
      "C:\\Users\\adans\\Anaconda\\lib\\site-packages\\sklearn\\linear_model\\logistic.py:433: FutureWarning: Default solver will be changed to 'lbfgs' in 0.22. Specify a solver to silence this warning.\n",
      "  FutureWarning)\n"
     ]
    },
    {
     "name": "stdout",
     "output_type": "stream",
     "text": [
      "[ True False False False False  True False  True  True  True  True  True\n",
      "  True  True  True  True  True  True  True  True  True  True  True  True\n",
      "  True]\n",
      "[1 4 6 2 3 1 5 1 1 1 1 1 1 1 1 1 1 1 1 1 1 1 1 1 1]\n"
     ]
    }
   ],
   "source": [
    "from sklearn.feature_selection import RFE\n",
    "from sklearn.linear_model import LogisticRegression\n",
    "\n",
    "logreg = LogisticRegression()\n",
    "\n",
    "rfe = RFE(logreg, 20)\n",
    "rfe = rfe.fit(os_data_X, os_data_y.values.ravel())\n",
    "print(rfe.support_)\n",
    "print(rfe.ranking_)\n",
    "\n",
    "X=os_data_X\n",
    "y=os_data_y['FLAG_TARGET']"
   ]
  },
  {
   "cell_type": "code",
   "execution_count": 38,
   "metadata": {},
   "outputs": [
    {
     "name": "stdout",
     "output_type": "stream",
     "text": [
      "Optimization terminated successfully.\n",
      "         Current function value: 0.646350\n",
      "         Iterations 6\n",
      "                             Results: Logit\n",
      "========================================================================\n",
      "Model:                Logit              Pseudo R-squared:   0.068      \n",
      "Dependent Variable:   FLAG_TARGET        AIC:                129666.3454\n",
      "Date:                 2019-02-05 10:53   BIC:                129904.2354\n",
      "No. Observations:     100268             Log-Likelihood:     -64808.    \n",
      "Df Model:             24                 LL-Null:            -69500.    \n",
      "Df Residuals:         100243             LLR p-value:        0.0000     \n",
      "Converged:            1.0000             Scale:              1.0000     \n",
      "No. Iterations:       6.0000                                            \n",
      "------------------------------------------------------------------------\n",
      "                         Coef.  Std.Err.    z     P>|z|   [0.025  0.975]\n",
      "------------------------------------------------------------------------\n",
      "QTD_DEPENDENTES          0.1064   0.0098  10.8724 0.0000  0.0872  0.1256\n",
      "RENDA_TITULAR            0.0000   0.0000   6.2753 0.0000  0.0000  0.0001\n",
      "RENDA_CJ                 0.0000   0.0000   1.2130 0.2251 -0.0000  0.0001\n",
      "OUTRAS_RENDAS            0.0001   0.0000   7.2689 0.0000  0.0001  0.0002\n",
      "VALOR_HISTORICO_COMPRAS -0.0001   0.0000 -33.5144 0.0000 -0.0001 -0.0001\n",
      "IDADE                   -0.0151   0.0006 -26.3820 0.0000 -0.0162 -0.0140\n",
      "LIMITE                  -0.0000   0.0000  -4.9793 0.0000 -0.0001 -0.0000\n",
      "FLAG_CARTAO              1.2008   0.0223  53.8109 0.0000  1.1571  1.2446\n",
      "VALOR_PARCELA           -0.0002   0.0000  -9.0530 0.0000 -0.0003 -0.0002\n",
      "FLAG_CARNE               0.9839   0.0167  58.7643 0.0000  0.9511  1.0167\n",
      "M                       -0.0164   0.0144  -1.1365 0.2558 -0.0447  0.0119\n",
      "CO                       0.0248   0.0253   0.9797 0.3273 -0.0248  0.0745\n",
      "SE                       0.1540   0.0329   4.6779 0.0000  0.0895  0.2185\n",
      "SO                       0.0575   0.0176   3.2753 0.0011  0.0231  0.0920\n",
      "VI                       0.0724   0.0355   2.0385 0.0415  0.0028  0.1420\n",
      "APOSENTADO              -0.5186   0.0355 -14.5979 0.0000 -0.5883 -0.4490\n",
      "ASSALARIADO             -0.3429   0.0275 -12.4559 0.0000 -0.3969 -0.2890\n",
      "AUT+NOMO                -0.0402   0.0305  -1.3205 0.1867 -0.0999  0.0195\n",
      "LIBERAL                  0.0963   0.1465   0.6573 0.5110 -0.1908  0.3834\n",
      "FA                      -0.5014   0.0489 -10.2499 0.0000 -0.5973 -0.4055\n",
      "FI                      -0.5757   0.0529 -10.8745 0.0000 -0.6794 -0.4719\n",
      "OU                      -0.2687   0.0248 -10.8366 0.0000 -0.3173 -0.2201\n",
      "PR                      -0.3848   0.0229 -16.8389 0.0000 -0.4296 -0.3400\n",
      "SM                      -0.7700   0.1698  -4.5340 0.0000 -1.1029 -0.4372\n",
      "S                        0.1143   0.0258   4.4262 0.0000  0.0637  0.1650\n",
      "========================================================================\n",
      "\n"
     ]
    }
   ],
   "source": [
    "import statsmodels.api as sm\n",
    "logit_model=sm.Logit(y,X)\n",
    "result=logit_model.fit()\n",
    "print(result.summary2())"
   ]
  },
  {
   "cell_type": "markdown",
   "metadata": {},
   "source": [
    "# Drops após analise"
   ]
  },
  {
   "cell_type": "code",
   "execution_count": 40,
   "metadata": {},
   "outputs": [
    {
     "ename": "KeyError",
     "evalue": "\"['M'] not found in axis\"",
     "output_type": "error",
     "traceback": [
      "\u001b[1;31m---------------------------------------------------------------------------\u001b[0m",
      "\u001b[1;31mKeyError\u001b[0m                                  Traceback (most recent call last)",
      "\u001b[1;32m<ipython-input-40-842c39ea1a49>\u001b[0m in \u001b[0;36m<module>\u001b[1;34m\u001b[0m\n\u001b[1;32m----> 1\u001b[1;33m \u001b[0mX\u001b[0m \u001b[1;33m=\u001b[0m \u001b[0mX\u001b[0m\u001b[1;33m.\u001b[0m\u001b[0mdrop\u001b[0m\u001b[1;33m(\u001b[0m\u001b[1;34m'M'\u001b[0m\u001b[1;33m,\u001b[0m \u001b[0maxis\u001b[0m\u001b[1;33m=\u001b[0m\u001b[1;36m1\u001b[0m\u001b[1;33m)\u001b[0m\u001b[1;33m\u001b[0m\u001b[1;33m\u001b[0m\u001b[0m\n\u001b[0m\u001b[0;32m      2\u001b[0m \u001b[0mX\u001b[0m \u001b[1;33m=\u001b[0m \u001b[0mX\u001b[0m\u001b[1;33m.\u001b[0m\u001b[0mdrop\u001b[0m\u001b[1;33m(\u001b[0m\u001b[1;34m'CO'\u001b[0m\u001b[1;33m,\u001b[0m \u001b[0maxis\u001b[0m\u001b[1;33m=\u001b[0m\u001b[1;36m1\u001b[0m\u001b[1;33m)\u001b[0m\u001b[1;33m\u001b[0m\u001b[1;33m\u001b[0m\u001b[0m\n\u001b[0;32m      3\u001b[0m \u001b[1;31m#X = X.drop('OU', axis=1)\u001b[0m\u001b[1;33m\u001b[0m\u001b[1;33m\u001b[0m\u001b[1;33m\u001b[0m\u001b[0m\n\u001b[0;32m      4\u001b[0m \u001b[0mX\u001b[0m \u001b[1;33m=\u001b[0m \u001b[0mX\u001b[0m\u001b[1;33m.\u001b[0m\u001b[0mdrop\u001b[0m\u001b[1;33m(\u001b[0m\u001b[1;34m'LIBERAL'\u001b[0m\u001b[1;33m,\u001b[0m \u001b[0maxis\u001b[0m\u001b[1;33m=\u001b[0m\u001b[1;36m1\u001b[0m\u001b[1;33m)\u001b[0m\u001b[1;33m\u001b[0m\u001b[1;33m\u001b[0m\u001b[0m\n\u001b[0;32m      5\u001b[0m \u001b[1;31m#X = X.drop('RENDA_CJ', axis=1)\u001b[0m\u001b[1;33m\u001b[0m\u001b[1;33m\u001b[0m\u001b[1;33m\u001b[0m\u001b[0m\n",
      "\u001b[1;32m~\\Anaconda\\lib\\site-packages\\pandas\\core\\frame.py\u001b[0m in \u001b[0;36mdrop\u001b[1;34m(self, labels, axis, index, columns, level, inplace, errors)\u001b[0m\n\u001b[0;32m   3695\u001b[0m                                            \u001b[0mindex\u001b[0m\u001b[1;33m=\u001b[0m\u001b[0mindex\u001b[0m\u001b[1;33m,\u001b[0m \u001b[0mcolumns\u001b[0m\u001b[1;33m=\u001b[0m\u001b[0mcolumns\u001b[0m\u001b[1;33m,\u001b[0m\u001b[1;33m\u001b[0m\u001b[1;33m\u001b[0m\u001b[0m\n\u001b[0;32m   3696\u001b[0m                                            \u001b[0mlevel\u001b[0m\u001b[1;33m=\u001b[0m\u001b[0mlevel\u001b[0m\u001b[1;33m,\u001b[0m \u001b[0minplace\u001b[0m\u001b[1;33m=\u001b[0m\u001b[0minplace\u001b[0m\u001b[1;33m,\u001b[0m\u001b[1;33m\u001b[0m\u001b[1;33m\u001b[0m\u001b[0m\n\u001b[1;32m-> 3697\u001b[1;33m                                            errors=errors)\n\u001b[0m\u001b[0;32m   3698\u001b[0m \u001b[1;33m\u001b[0m\u001b[0m\n\u001b[0;32m   3699\u001b[0m     @rewrite_axis_style_signature('mapper', [('copy', True),\n",
      "\u001b[1;32m~\\Anaconda\\lib\\site-packages\\pandas\\core\\generic.py\u001b[0m in \u001b[0;36mdrop\u001b[1;34m(self, labels, axis, index, columns, level, inplace, errors)\u001b[0m\n\u001b[0;32m   3109\u001b[0m         \u001b[1;32mfor\u001b[0m \u001b[0maxis\u001b[0m\u001b[1;33m,\u001b[0m \u001b[0mlabels\u001b[0m \u001b[1;32min\u001b[0m \u001b[0maxes\u001b[0m\u001b[1;33m.\u001b[0m\u001b[0mitems\u001b[0m\u001b[1;33m(\u001b[0m\u001b[1;33m)\u001b[0m\u001b[1;33m:\u001b[0m\u001b[1;33m\u001b[0m\u001b[1;33m\u001b[0m\u001b[0m\n\u001b[0;32m   3110\u001b[0m             \u001b[1;32mif\u001b[0m \u001b[0mlabels\u001b[0m \u001b[1;32mis\u001b[0m \u001b[1;32mnot\u001b[0m \u001b[1;32mNone\u001b[0m\u001b[1;33m:\u001b[0m\u001b[1;33m\u001b[0m\u001b[1;33m\u001b[0m\u001b[0m\n\u001b[1;32m-> 3111\u001b[1;33m                 \u001b[0mobj\u001b[0m \u001b[1;33m=\u001b[0m \u001b[0mobj\u001b[0m\u001b[1;33m.\u001b[0m\u001b[0m_drop_axis\u001b[0m\u001b[1;33m(\u001b[0m\u001b[0mlabels\u001b[0m\u001b[1;33m,\u001b[0m \u001b[0maxis\u001b[0m\u001b[1;33m,\u001b[0m \u001b[0mlevel\u001b[0m\u001b[1;33m=\u001b[0m\u001b[0mlevel\u001b[0m\u001b[1;33m,\u001b[0m \u001b[0merrors\u001b[0m\u001b[1;33m=\u001b[0m\u001b[0merrors\u001b[0m\u001b[1;33m)\u001b[0m\u001b[1;33m\u001b[0m\u001b[1;33m\u001b[0m\u001b[0m\n\u001b[0m\u001b[0;32m   3112\u001b[0m \u001b[1;33m\u001b[0m\u001b[0m\n\u001b[0;32m   3113\u001b[0m         \u001b[1;32mif\u001b[0m \u001b[0minplace\u001b[0m\u001b[1;33m:\u001b[0m\u001b[1;33m\u001b[0m\u001b[1;33m\u001b[0m\u001b[0m\n",
      "\u001b[1;32m~\\Anaconda\\lib\\site-packages\\pandas\\core\\generic.py\u001b[0m in \u001b[0;36m_drop_axis\u001b[1;34m(self, labels, axis, level, errors)\u001b[0m\n\u001b[0;32m   3141\u001b[0m                 \u001b[0mnew_axis\u001b[0m \u001b[1;33m=\u001b[0m \u001b[0maxis\u001b[0m\u001b[1;33m.\u001b[0m\u001b[0mdrop\u001b[0m\u001b[1;33m(\u001b[0m\u001b[0mlabels\u001b[0m\u001b[1;33m,\u001b[0m \u001b[0mlevel\u001b[0m\u001b[1;33m=\u001b[0m\u001b[0mlevel\u001b[0m\u001b[1;33m,\u001b[0m \u001b[0merrors\u001b[0m\u001b[1;33m=\u001b[0m\u001b[0merrors\u001b[0m\u001b[1;33m)\u001b[0m\u001b[1;33m\u001b[0m\u001b[1;33m\u001b[0m\u001b[0m\n\u001b[0;32m   3142\u001b[0m             \u001b[1;32melse\u001b[0m\u001b[1;33m:\u001b[0m\u001b[1;33m\u001b[0m\u001b[1;33m\u001b[0m\u001b[0m\n\u001b[1;32m-> 3143\u001b[1;33m                 \u001b[0mnew_axis\u001b[0m \u001b[1;33m=\u001b[0m \u001b[0maxis\u001b[0m\u001b[1;33m.\u001b[0m\u001b[0mdrop\u001b[0m\u001b[1;33m(\u001b[0m\u001b[0mlabels\u001b[0m\u001b[1;33m,\u001b[0m \u001b[0merrors\u001b[0m\u001b[1;33m=\u001b[0m\u001b[0merrors\u001b[0m\u001b[1;33m)\u001b[0m\u001b[1;33m\u001b[0m\u001b[1;33m\u001b[0m\u001b[0m\n\u001b[0m\u001b[0;32m   3144\u001b[0m             \u001b[0mresult\u001b[0m \u001b[1;33m=\u001b[0m \u001b[0mself\u001b[0m\u001b[1;33m.\u001b[0m\u001b[0mreindex\u001b[0m\u001b[1;33m(\u001b[0m\u001b[1;33m**\u001b[0m\u001b[1;33m{\u001b[0m\u001b[0maxis_name\u001b[0m\u001b[1;33m:\u001b[0m \u001b[0mnew_axis\u001b[0m\u001b[1;33m}\u001b[0m\u001b[1;33m)\u001b[0m\u001b[1;33m\u001b[0m\u001b[1;33m\u001b[0m\u001b[0m\n\u001b[0;32m   3145\u001b[0m \u001b[1;33m\u001b[0m\u001b[0m\n",
      "\u001b[1;32m~\\Anaconda\\lib\\site-packages\\pandas\\core\\indexes\\base.py\u001b[0m in \u001b[0;36mdrop\u001b[1;34m(self, labels, errors)\u001b[0m\n\u001b[0;32m   4402\u001b[0m             \u001b[1;32mif\u001b[0m \u001b[0merrors\u001b[0m \u001b[1;33m!=\u001b[0m \u001b[1;34m'ignore'\u001b[0m\u001b[1;33m:\u001b[0m\u001b[1;33m\u001b[0m\u001b[1;33m\u001b[0m\u001b[0m\n\u001b[0;32m   4403\u001b[0m                 raise KeyError(\n\u001b[1;32m-> 4404\u001b[1;33m                     '{} not found in axis'.format(labels[mask]))\n\u001b[0m\u001b[0;32m   4405\u001b[0m             \u001b[0mindexer\u001b[0m \u001b[1;33m=\u001b[0m \u001b[0mindexer\u001b[0m\u001b[1;33m[\u001b[0m\u001b[1;33m~\u001b[0m\u001b[0mmask\u001b[0m\u001b[1;33m]\u001b[0m\u001b[1;33m\u001b[0m\u001b[1;33m\u001b[0m\u001b[0m\n\u001b[0;32m   4406\u001b[0m         \u001b[1;32mreturn\u001b[0m \u001b[0mself\u001b[0m\u001b[1;33m.\u001b[0m\u001b[0mdelete\u001b[0m\u001b[1;33m(\u001b[0m\u001b[0mindexer\u001b[0m\u001b[1;33m)\u001b[0m\u001b[1;33m\u001b[0m\u001b[1;33m\u001b[0m\u001b[0m\n",
      "\u001b[1;31mKeyError\u001b[0m: \"['M'] not found in axis\""
     ]
    }
   ],
   "source": [
    "X = X.drop('M', axis=1)\n",
    "X = X.drop('CO', axis=1)\n",
    "#X = X.drop('OU', axis=1)\n",
    "X = X.drop('LIBERAL', axis=1)\n",
    "#X = X.drop('RENDA_CJ', axis=1)\n",
    "#X = X.drop('AUT+NOMO', axis=1)"
   ]
  },
  {
   "cell_type": "markdown",
   "metadata": {},
   "source": [
    "# Aplicação de modelos"
   ]
  },
  {
   "cell_type": "markdown",
   "metadata": {},
   "source": [
    "# 1. Regressão Logistica"
   ]
  },
  {
   "cell_type": "code",
   "execution_count": 42,
   "metadata": {},
   "outputs": [
    {
     "name": "stderr",
     "output_type": "stream",
     "text": [
      "C:\\Users\\adans\\Anaconda\\lib\\site-packages\\sklearn\\linear_model\\logistic.py:433: FutureWarning: Default solver will be changed to 'lbfgs' in 0.22. Specify a solver to silence this warning.\n",
      "  FutureWarning)\n"
     ]
    },
    {
     "name": "stdout",
     "output_type": "stream",
     "text": [
      "Accuracy of logistic regression classifier on test set: 0.64\n",
      "[[9747 5244]\n",
      " [5730 9360]]\n",
      "              precision    recall  f1-score   support\n",
      "\n",
      "         0.0       0.63      0.65      0.64     14991\n",
      "         1.0       0.64      0.62      0.63     15090\n",
      "\n",
      "   micro avg       0.64      0.64      0.64     30081\n",
      "   macro avg       0.64      0.64      0.64     30081\n",
      "weighted avg       0.64      0.64      0.64     30081\n",
      "\n"
     ]
    }
   ],
   "source": [
    "from sklearn.linear_model import LogisticRegression\n",
    "from sklearn import metrics\n",
    "\n",
    "X_train, X_test, y_train, y_test = train_test_split(X, y, test_size=0.3, random_state=0)\n",
    "logreg = LogisticRegression()\n",
    "logreg.fit(X_train, y_train)\n",
    "\n",
    "y_pred = logreg.predict(X_test)\n",
    "print('Accuracy of logistic regression classifier on test set: {:.2f}'.format(logreg.score(X_test, y_test)))\n",
    "\n",
    "from sklearn.metrics import confusion_matrix\n",
    "confusion_matrix = confusion_matrix(y_test, y_pred)\n",
    "print(confusion_matrix)\n",
    "\n",
    "from sklearn.metrics import classification_report\n",
    "print(classification_report(y_test, y_pred))"
   ]
  },
  {
   "cell_type": "markdown",
   "metadata": {},
   "source": [
    "# Curva Roc"
   ]
  },
  {
   "cell_type": "code",
   "execution_count": 43,
   "metadata": {},
   "outputs": [
    {
     "data": {
      "image/png": "[encoded data removed]",
      "text/plain": [
       "<Figure size 432x288 with 1 Axes>"
      ]
     },
     "metadata": {
      "needs_background": "light"
     },
     "output_type": "display_data"
    }
   ],
   "source": [
    "from sklearn.metrics import roc_auc_score\n",
    "from sklearn.metrics import roc_curve\n",
    "\n",
    "logit_roc_auc = roc_auc_score(y_test, logreg.predict(X_test))\n",
    "fpr, tpr, thresholds = roc_curve(y_test, logreg.predict_proba(X_test)[:,1])\n",
    "plt.figure()\n",
    "plt.plot(fpr, tpr, label='Logistic Regression (area = %0.2f)' % logit_roc_auc)\n",
    "plt.plot([0, 1], [0, 1],'r--')\n",
    "plt.xlim([0.0, 1.0])\n",
    "plt.ylim([0.0, 1.05])\n",
    "plt.xlabel('False Positive Rate')\n",
    "plt.ylabel('True Positive Rate')\n",
    "plt.title('Receiver operating characteristic')\n",
    "plt.legend(loc=\"lower right\")\n",
    "plt.savefig('Log_ROC')\n",
    "plt.show()"
   ]
  },
  {
   "cell_type": "markdown",
   "metadata": {},
   "source": [
    "# 2. MLP (25,19,19, n=500)"
   ]
  },
  {
   "cell_type": "code",
   "execution_count": 44,
   "metadata": {},
   "outputs": [
    {
     "name": "stdout",
     "output_type": "stream",
     "text": [
      "MODELO 2.\n",
      "MODELO REDES NEURAIS\n",
      "\n",
      "X1\n",
      "[[10198  4812]\n",
      " [ 1488 13583]]\n",
      "              precision    recall  f1-score   support\n",
      "\n",
      "         0.0       0.87      0.68      0.76     15010\n",
      "         1.0       0.74      0.90      0.81     15071\n",
      "\n",
      "   micro avg       0.79      0.79      0.79     30081\n",
      "   macro avg       0.81      0.79      0.79     30081\n",
      "weighted avg       0.81      0.79      0.79     30081\n",
      "\n",
      "X1:ACCURACY:\n",
      "0.7905654732222998\n",
      "\n"
     ]
    }
   ],
   "source": [
    "print(\"MODELO 2.\")\n",
    "print(\"MODELO REDES NEURAIS\")\n",
    "print()\n",
    "\n",
    "sc = StandardScaler()\n",
    "X1 =  sc.fit_transform(X)\n",
    "\n",
    "from sklearn.neural_network import MLPClassifier\n",
    "\n",
    "X_train,X_test,y_train,y_test = train_test_split(X1,y,test_size=0.3,train_size=0.7)\n",
    "mlp = MLPClassifier(hidden_layer_sizes=(23,19,19),max_iter=500)\n",
    "\n",
    "mlp.fit(X_train,y_train)\n",
    "\n",
    "predictions = mlp.predict(X_test)\n",
    "\n",
    "from sklearn.metrics import classification_report,confusion_matrix\n",
    "print(\"X1\")\n",
    "print(confusion_matrix(y_test,predictions))\n",
    "print(classification_report(y_test,predictions))\n",
    "print(\"X1:ACCURACY:\")\n",
    "print(accuracy_score(y_test,predictions))\n",
    "print()\n"
   ]
  }
 ],
 "metadata": {
  "kernelspec": {
   "display_name": "Python 3",
   "language": "python",
   "name": "python3"
  },
  "language_info": {
   "codemirror_mode": {
    "name": "ipython",
    "version": 3
   },
   "file_extension": ".py",
   "mimetype": "text/x-python",
   "name": "python",
   "nbconvert_exporter": "python",
   "pygments_lexer": "ipython3",
   "version": "3.7.1"
  }
 },
 "nbformat": 4,
 "nbformat_minor": 2
}
